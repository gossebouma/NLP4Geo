{
 "cells": [
  {
   "cell_type": "markdown",
   "metadata": {},
   "source": [
    "# Geocoding\n",
    "\n",
    "Geocoding is the process of providing a reference (such as LAT and LNG coordinates) for a string recognized as a geographical entity in the text. Often, there are several candidate entities, and an important challenge for geocoding is finding the most likely candidate.\n",
    "\n",
    "## Geonames\n",
    "\n",
    "An important resource for geographical annotation is [Geonames](https://www.geonames.org/). Here, we demonstrate how to incorporate geonames in the spaCy annotation pipeline.\n",
    "\n",
    "### geocoder library\n",
    "\n",
    "To access geonames from a python program, we will use the [geocoder](https://geocoder.readthedocs.io/providers/GeoNames.html) library for geonames, demonstrated below. \n",
    "\n",
    "To use the api for **geonames**, you need to **register** as a user (ie create a [username](https://www.geonames.org/login)), and next go to your login page where you can activate access to the api.\n",
    "\n",
    "_The parameter 'username' needs to be passed with each request. The username for your application can be registered here. You will then receive an email with a confirmation link and after you have confirmed the email you can enable your account for the webservice on your account page_\n",
    "\n",
    "Geocoder provides easy access to other geo-resources as well (such as google maps).\n",
    "\n"
   ]
  },
  {
   "cell_type": "code",
   "execution_count": null,
   "metadata": {},
   "outputs": [],
   "source": [
    "#run this the first time and/or when you are using google colab\n",
    "#!pip install geocoder\n",
    "\n",
    "\n",
    "import geocoder\n",
    "\n",
    "# replace GosseBouma with your own username \n",
    "locations = geocoder.geonames(\"Dagstuhl\",key='GosseBouma',maxRows=5)\n",
    "# try Winsum, Groningen (why is Veendam etc in there?)\n",
    "# Bar Ilan University, Dagstuhl, Wadern, Martinitoren, Schloss Dagstuhl\n",
    "\n",
    "for g in locations :\n",
    "    print(g.address,g.description, g.latlng)\n"
   ]
  },
  {
   "cell_type": "markdown",
   "metadata": {},
   "source": [
    "### Exercise 1\n",
    "\n",
    "* Try a few values for the string in the call to the geonames api to explore which locations and points of interest are and are not covered by geonames\n",
    "\n",
    "## spaCy\n",
    "\n",
    "For integration of geocoding/geonames in spaCy, we first need to load a spacy model."
   ]
  },
  {
   "cell_type": "code",
   "execution_count": null,
   "metadata": {},
   "outputs": [],
   "source": [
    "import spacy\n",
    "\n",
    "# nlp = spacy.load('en_core_web_lg')\n",
    "\n",
    "nlp = spacy.load('en_core_web_trf')\n"
   ]
  },
  {
   "cell_type": "markdown",
   "metadata": {},
   "source": [
    "## Geocoding spaCy Named Entities using geonames\n",
    "\n",
    "Next we define the linker function for geonames. \n",
    "\n",
    "Integration with spaCy is done by introducing an extension attribute on the spans found by the named entities component. See https://spacy.io/usage/rule-based-matching#entityruler for an example and discussion.\n",
    "\n",
    "Only geographical locations are linked using geonames. Note that we simply return the first match from geonames, other linking strategies (which ones?) might give more accurate results. \n"
   ]
  },
  {
   "cell_type": "code",
   "execution_count": null,
   "metadata": {},
   "outputs": [],
   "source": [
    "import requests\n",
    "\n",
    "from spacy.tokens import Span\n",
    "    \n",
    "def geonames_linking(span) :\n",
    "    # You can try to come up with more interesting geocding strategies instead of picking the first solution\n",
    "    if span.label_ == \"GPE\" :\n",
    "        g = geocoder.geonames(span.text,key='GosseBouma')\n",
    "        if g :\n",
    "            #print(g)\n",
    "            return((g.latlng,g.description,g.country))\n",
    "        else :\n",
    "            return('GPE_not_known')\n",
    "    else :\n",
    "        return \"not_GPE\"\n",
    "            \n",
    "Span.set_extension('geonames_link',getter=geonames_linking,force=True)    \n",
    "\n"
   ]
  },
  {
   "cell_type": "code",
   "execution_count": null,
   "metadata": {},
   "outputs": [],
   "source": [
    "doc = nlp(text)\n",
    "\n",
    "#text = '''At the UG’s Campus Fryslân faculty in Leeuwarden, Van Vulpen is conducting research into discontent in different regions of the Netherlands. The results of the recent provincial elections, in which the new Farmer-Citizen Movement (BBB) scored a thumping victory over the established parties, suggest that the government is the main object of that discontent. Van Vulpen: ‘The BBB used public disaffection to its advantage, profiling itself as a rural party and magnifying the differences between city and countryside.’\n",
    "# Much of the support for the BBB came from the fringe regions outside the Randstad. In parts of the province of Overijssel, the BBB raked in almost 60% of the votes. Van Vulpen’s goal is to uncover the reasons underlying this regional discontent with the government and the established parties. Because of his expertise in this area, his opinion is often sought by the Dutch media.'''\n",
    "\n",
    "text = '''Last August, Oleg Patsulya, a Russian citizen living near Miami, emailed a Russian airline that had been cut off from Western technology and materials with a tempting offer.\n",
    "He could help circumvent the global sanctions imposed on Rossiya Airlines after Russia’s invasion of Ukraine by shuffling the aircraft parts and electronics that it so desperately needed through a network of companies based in Florida, Turkey and Russia.\n",
    "'''\n",
    "for sent in doc.sents :\n",
    "    print(sent.text)\n",
    "for ent in doc.ents: \n",
    "    print(ent.text, ent._.geonames_link)\n",
    "print()"
   ]
  },
  {
   "cell_type": "markdown",
   "metadata": {},
   "source": [
    "### Exercise 2\n",
    "\n",
    "* Replace the text in the example above with another text, containing one or more gegraphical locations. Are they recognized as entities? Are they located correctly and linked to the correct entity? \n",
    "\n",
    "### Exercise 3\n",
    "* Modify the geonames-entity-linking function so that it prints population size as well for each resolved population. See [geonames](https://geocoder.readthedocs.io/providers/GeoNames.html) for details \n",
    "\n",
    "### Exercise 4\n",
    "* Modify the geonames-entity-linking function with the additional constraint that locations must be linked to a location that is situated in a given country. I.e. for a newspaper article about the Netherlands, we might require *Bergen* to be resolved to the place in the Netherlands, not Norway. Check geonames filters for details\n",
    "* Can you think of another example where such a constraint would help? If so, show that the linker gives different results with and without the constraint."
   ]
  },
  {
   "cell_type": "code",
   "execution_count": null,
   "metadata": {},
   "outputs": [],
   "source": []
  }
 ],
 "metadata": {
  "kernelspec": {
   "display_name": "Python 3",
   "language": "python",
   "name": "python3"
  },
  "language_info": {
   "codemirror_mode": {
    "name": "ipython",
    "version": 3
   },
   "file_extension": ".py",
   "mimetype": "text/x-python",
   "name": "python",
   "nbconvert_exporter": "python",
   "pygments_lexer": "ipython3",
   "version": "3.8.10"
  }
 },
 "nbformat": 4,
 "nbformat_minor": 4
}
