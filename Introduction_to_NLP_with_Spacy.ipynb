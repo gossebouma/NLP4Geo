{
  "cells": [
    {
      "cell_type": "markdown",
      "metadata": {
        "tags": [
          "{",
          "\"tags\":",
          "[",
          "\"full-width\"",
          "]",
          "}"
        ],
        "id": "XHEEQ2RJMl6H"
      },
      "source": [
        "## Introduction to NLP with spaCy\n",
        "\n",
        "spaCy is a Python library for Natural Language Processing. It is robust and versatile, here we demonstrate how to install and use it.\n",
        "\n",
        "This notebook illustrates how to load a language model, and how to analyse text with it.\n",
        "\n",
        "See also spacy 101, https://spacy.io/usage/spacy-101\n",
        "\n",
        "This notebook is part of a hands-on introduction to NLP for Geo-text data mining.\n",
        "\n",
        "### Topics covered in this notebook\n",
        "\n",
        "1. Loading a spaCy model \n",
        "2. Selecting words by their part-of-speech \n",
        "3. Visualising parse results\n",
        "4. pattern matching and information extraction\n",
        "5. Semantic similarity (of words, of sentences)\n",
        "\n",
        "\n",
        "### Other topics (check the other notebooks or instruction pages)\n",
        "\n",
        "6. Named Entities (visualisation, explain labels) (notebook)\n",
        "7. Entity Linking (to geonames) (notebook)\n",
        "8. Information Extraction with SPIKE (demo, examples)\n",
        "9. (optional) Information Extraction with Spacy\n",
        "10. LLMs and ChatGPT for Information Extraction\n",
        "\n",
        "### 1. Loading Spacy\n",
        "\n",
        "To load the spacy library, you first need to [install](https://spacy.io/usage) it (unless you are running this tutorial on Google colab). In addition, you need to select a **model** for the language that you want to analyze. Models generally come in 3 flavors, from small to large. Smaller models load and run faster, larger models are more accurate. For English there is also the transformer model, the most accurate model for many tasks and datasets. \n",
        "\n",
        "spacy.info() gives information about your installation. \n",
        "\n"
      ]
    },
    {
      "cell_type": "code",
      "execution_count": 3,
      "metadata": {
        "colab": {
          "base_uri": "https://localhost:8080/"
        },
        "id": "-jEKV3ZMMl6Y",
        "outputId": "0b24339c-3158-45dc-ceb5-bf76a9d5fd16"
      },
      "outputs": [
        {
          "output_type": "stream",
          "name": "stdout",
          "text": [
            "2023-05-12 04:27:50.252824: W tensorflow/compiler/tf2tensorrt/utils/py_utils.cc:38] TF-TRT Warning: Could not find TensorRT\n",
            "Looking in indexes: https://pypi.org/simple, https://us-python.pkg.dev/colab-wheels/public/simple/\n",
            "Collecting en-core-web-lg==3.5.0\n",
            "  Downloading https://github.com/explosion/spacy-models/releases/download/en_core_web_lg-3.5.0/en_core_web_lg-3.5.0-py3-none-any.whl (587.7 MB)\n",
            "\u001b[2K     \u001b[90m━━━━━━━━━━━━━━━━━━━━━━━━━━━━━━━━━━━━━━━\u001b[0m \u001b[32m587.7/587.7 MB\u001b[0m \u001b[31m2.4 MB/s\u001b[0m eta \u001b[36m0:00:00\u001b[0m\n",
            "\u001b[?25hRequirement already satisfied: spacy<3.6.0,>=3.5.0 in /usr/local/lib/python3.10/dist-packages (from en-core-web-lg==3.5.0) (3.5.2)\n",
            "Requirement already satisfied: spacy-legacy<3.1.0,>=3.0.11 in /usr/local/lib/python3.10/dist-packages (from spacy<3.6.0,>=3.5.0->en-core-web-lg==3.5.0) (3.0.12)\n",
            "Requirement already satisfied: spacy-loggers<2.0.0,>=1.0.0 in /usr/local/lib/python3.10/dist-packages (from spacy<3.6.0,>=3.5.0->en-core-web-lg==3.5.0) (1.0.4)\n",
            "Requirement already satisfied: murmurhash<1.1.0,>=0.28.0 in /usr/local/lib/python3.10/dist-packages (from spacy<3.6.0,>=3.5.0->en-core-web-lg==3.5.0) (1.0.9)\n",
            "Requirement already satisfied: cymem<2.1.0,>=2.0.2 in /usr/local/lib/python3.10/dist-packages (from spacy<3.6.0,>=3.5.0->en-core-web-lg==3.5.0) (2.0.7)\n",
            "Requirement already satisfied: preshed<3.1.0,>=3.0.2 in /usr/local/lib/python3.10/dist-packages (from spacy<3.6.0,>=3.5.0->en-core-web-lg==3.5.0) (3.0.8)\n",
            "Requirement already satisfied: thinc<8.2.0,>=8.1.8 in /usr/local/lib/python3.10/dist-packages (from spacy<3.6.0,>=3.5.0->en-core-web-lg==3.5.0) (8.1.9)\n",
            "Requirement already satisfied: wasabi<1.2.0,>=0.9.1 in /usr/local/lib/python3.10/dist-packages (from spacy<3.6.0,>=3.5.0->en-core-web-lg==3.5.0) (1.1.1)\n",
            "Requirement already satisfied: srsly<3.0.0,>=2.4.3 in /usr/local/lib/python3.10/dist-packages (from spacy<3.6.0,>=3.5.0->en-core-web-lg==3.5.0) (2.4.6)\n",
            "Requirement already satisfied: catalogue<2.1.0,>=2.0.6 in /usr/local/lib/python3.10/dist-packages (from spacy<3.6.0,>=3.5.0->en-core-web-lg==3.5.0) (2.0.8)\n",
            "Requirement already satisfied: typer<0.8.0,>=0.3.0 in /usr/local/lib/python3.10/dist-packages (from spacy<3.6.0,>=3.5.0->en-core-web-lg==3.5.0) (0.7.0)\n",
            "Requirement already satisfied: pathy>=0.10.0 in /usr/local/lib/python3.10/dist-packages (from spacy<3.6.0,>=3.5.0->en-core-web-lg==3.5.0) (0.10.1)\n",
            "Requirement already satisfied: smart-open<7.0.0,>=5.2.1 in /usr/local/lib/python3.10/dist-packages (from spacy<3.6.0,>=3.5.0->en-core-web-lg==3.5.0) (6.3.0)\n",
            "Requirement already satisfied: tqdm<5.0.0,>=4.38.0 in /usr/local/lib/python3.10/dist-packages (from spacy<3.6.0,>=3.5.0->en-core-web-lg==3.5.0) (4.65.0)\n",
            "Requirement already satisfied: numpy>=1.15.0 in /usr/local/lib/python3.10/dist-packages (from spacy<3.6.0,>=3.5.0->en-core-web-lg==3.5.0) (1.22.4)\n",
            "Requirement already satisfied: requests<3.0.0,>=2.13.0 in /usr/local/lib/python3.10/dist-packages (from spacy<3.6.0,>=3.5.0->en-core-web-lg==3.5.0) (2.27.1)\n",
            "Requirement already satisfied: pydantic!=1.8,!=1.8.1,<1.11.0,>=1.7.4 in /usr/local/lib/python3.10/dist-packages (from spacy<3.6.0,>=3.5.0->en-core-web-lg==3.5.0) (1.10.7)\n",
            "Requirement already satisfied: jinja2 in /usr/local/lib/python3.10/dist-packages (from spacy<3.6.0,>=3.5.0->en-core-web-lg==3.5.0) (3.1.2)\n",
            "Requirement already satisfied: setuptools in /usr/local/lib/python3.10/dist-packages (from spacy<3.6.0,>=3.5.0->en-core-web-lg==3.5.0) (67.7.2)\n",
            "Requirement already satisfied: packaging>=20.0 in /usr/local/lib/python3.10/dist-packages (from spacy<3.6.0,>=3.5.0->en-core-web-lg==3.5.0) (23.1)\n",
            "Requirement already satisfied: langcodes<4.0.0,>=3.2.0 in /usr/local/lib/python3.10/dist-packages (from spacy<3.6.0,>=3.5.0->en-core-web-lg==3.5.0) (3.3.0)\n",
            "Requirement already satisfied: typing-extensions>=4.2.0 in /usr/local/lib/python3.10/dist-packages (from pydantic!=1.8,!=1.8.1,<1.11.0,>=1.7.4->spacy<3.6.0,>=3.5.0->en-core-web-lg==3.5.0) (4.5.0)\n",
            "Requirement already satisfied: urllib3<1.27,>=1.21.1 in /usr/local/lib/python3.10/dist-packages (from requests<3.0.0,>=2.13.0->spacy<3.6.0,>=3.5.0->en-core-web-lg==3.5.0) (1.26.15)\n",
            "Requirement already satisfied: certifi>=2017.4.17 in /usr/local/lib/python3.10/dist-packages (from requests<3.0.0,>=2.13.0->spacy<3.6.0,>=3.5.0->en-core-web-lg==3.5.0) (2022.12.7)\n",
            "Requirement already satisfied: charset-normalizer~=2.0.0 in /usr/local/lib/python3.10/dist-packages (from requests<3.0.0,>=2.13.0->spacy<3.6.0,>=3.5.0->en-core-web-lg==3.5.0) (2.0.12)\n",
            "Requirement already satisfied: idna<4,>=2.5 in /usr/local/lib/python3.10/dist-packages (from requests<3.0.0,>=2.13.0->spacy<3.6.0,>=3.5.0->en-core-web-lg==3.5.0) (3.4)\n",
            "Requirement already satisfied: blis<0.8.0,>=0.7.8 in /usr/local/lib/python3.10/dist-packages (from thinc<8.2.0,>=8.1.8->spacy<3.6.0,>=3.5.0->en-core-web-lg==3.5.0) (0.7.9)\n",
            "Requirement already satisfied: confection<1.0.0,>=0.0.1 in /usr/local/lib/python3.10/dist-packages (from thinc<8.2.0,>=8.1.8->spacy<3.6.0,>=3.5.0->en-core-web-lg==3.5.0) (0.0.4)\n",
            "Requirement already satisfied: click<9.0.0,>=7.1.1 in /usr/local/lib/python3.10/dist-packages (from typer<0.8.0,>=0.3.0->spacy<3.6.0,>=3.5.0->en-core-web-lg==3.5.0) (8.1.3)\n",
            "Requirement already satisfied: MarkupSafe>=2.0 in /usr/local/lib/python3.10/dist-packages (from jinja2->spacy<3.6.0,>=3.5.0->en-core-web-lg==3.5.0) (2.1.2)\n",
            "Installing collected packages: en-core-web-lg\n",
            "Successfully installed en-core-web-lg-3.5.0\n",
            "\u001b[38;5;2m✔ Download and installation successful\u001b[0m\n",
            "You can now load the package via spacy.load('en_core_web_lg')\n"
          ]
        },
        {
          "output_type": "execute_result",
          "data": {
            "text/plain": [
              "{'spacy_version': '3.5.2',\n",
              " 'location': '/usr/local/lib/python3.10/dist-packages/spacy',\n",
              " 'platform': 'Linux-5.10.147+-x86_64-with-glibc2.31',\n",
              " 'python_version': '3.10.11',\n",
              " 'pipelines': {'en_core_web_sm': '3.5.0'}}"
            ]
          },
          "metadata": {},
          "execution_count": 3
        }
      ],
      "source": [
        "import spacy\n",
        "\n",
        "# 1. loading the model may produce some errors from tensorflow. Do not worry about these \n",
        "# 2. Google colab only has en_core_web_sm pre-installed, run command below to install other models \n",
        "# !python -m spacy download en_core_web_lg\n",
        "\n",
        "nlp = spacy.load(\"en_core_web_lg\")\n",
        "\n",
        "spacy.info()\n"
      ]
    },
    {
      "cell_type": "markdown",
      "metadata": {
        "id": "yZfA0JorMl6g"
      },
      "source": [
        "### Visualisation\n",
        "\n",
        "The easiest way to understand the output of analysis is to visualise the result. This works best for short input strings.\n"
      ]
    },
    {
      "cell_type": "code",
      "execution_count": 5,
      "metadata": {
        "colab": {
          "base_uri": "https://localhost:8080/",
          "height": 353
        },
        "id": "3IVPsNDEMl6m",
        "outputId": "9542bf9d-6f5c-482c-f5b9-f39421a5a874"
      },
      "outputs": [
        {
          "output_type": "display_data",
          "data": {
            "text/plain": [
              "<IPython.core.display.HTML object>"
            ],
            "text/html": [
              "<span class=\"tex2jax_ignore\"><svg xmlns=\"http://www.w3.org/2000/svg\" xmlns:xlink=\"http://www.w3.org/1999/xlink\" xml:lang=\"en\" id=\"265369516a804dbc9142bd2172df00a1-0\" class=\"displacy\" width=\"830\" height=\"332.0\" direction=\"ltr\" style=\"max-width: none; height: 332.0px; color: #000000; background: #ffffff; font-family: Arial; direction: ltr\"><text class=\"displacy-token\" fill=\"currentColor\" text-anchor=\"middle\" y=\"242.0\"><tspan class=\"displacy-word\" fill=\"currentColor\" x=\"50\">New</tspan><tspan class=\"displacy-tag\" dy=\"2em\" fill=\"currentColor\" x=\"50\">PROPN</tspan></text><text class=\"displacy-token\" fill=\"currentColor\" text-anchor=\"middle\" y=\"242.0\"><tspan class=\"displacy-word\" fill=\"currentColor\" x=\"180\">York</tspan><tspan class=\"displacy-tag\" dy=\"2em\" fill=\"currentColor\" x=\"180\">PROPN</tspan></text><text class=\"displacy-token\" fill=\"currentColor\" text-anchor=\"middle\" y=\"242.0\"><tspan class=\"displacy-word\" fill=\"currentColor\" x=\"310\">is</tspan><tspan class=\"displacy-tag\" dy=\"2em\" fill=\"currentColor\" x=\"310\">AUX</tspan></text><text class=\"displacy-token\" fill=\"currentColor\" text-anchor=\"middle\" y=\"242.0\"><tspan class=\"displacy-word\" fill=\"currentColor\" x=\"440\">a</tspan><tspan class=\"displacy-tag\" dy=\"2em\" fill=\"currentColor\" x=\"440\">DET</tspan></text><text class=\"displacy-token\" fill=\"currentColor\" text-anchor=\"middle\" y=\"242.0\"><tspan class=\"displacy-word\" fill=\"currentColor\" x=\"570\">large</tspan><tspan class=\"displacy-tag\" dy=\"2em\" fill=\"currentColor\" x=\"570\">ADJ</tspan></text><text class=\"displacy-token\" fill=\"currentColor\" text-anchor=\"middle\" y=\"242.0\"><tspan class=\"displacy-word\" fill=\"currentColor\" x=\"700\">city</tspan><tspan class=\"displacy-tag\" dy=\"2em\" fill=\"currentColor\" x=\"700\">NOUN</tspan></text><g class=\"displacy-arrow\"><path class=\"displacy-arc\" id=\"arrow-265369516a804dbc9142bd2172df00a1-0-0\" stroke-width=\"2px\" d=\"M70,197.0 C70,132.0 170.0,132.0 170.0,197.0\" fill=\"none\" stroke=\"currentColor\"/><text dy=\"1.25em\" style=\"font-size: 0.8em; letter-spacing: 1px\"><textPath xlink:href=\"#arrow-265369516a804dbc9142bd2172df00a1-0-0\" class=\"displacy-label\" startOffset=\"50%\" side=\"left\" fill=\"currentColor\" text-anchor=\"middle\">compound</textPath></text><path class=\"displacy-arrowhead\" d=\"M70,199.0 L62,187.0 78,187.0\" fill=\"currentColor\"/></g><g class=\"displacy-arrow\"><path class=\"displacy-arc\" id=\"arrow-265369516a804dbc9142bd2172df00a1-0-1\" stroke-width=\"2px\" d=\"M200,197.0 C200,132.0 300.0,132.0 300.0,197.0\" fill=\"none\" stroke=\"currentColor\"/><text dy=\"1.25em\" style=\"font-size: 0.8em; letter-spacing: 1px\"><textPath xlink:href=\"#arrow-265369516a804dbc9142bd2172df00a1-0-1\" class=\"displacy-label\" startOffset=\"50%\" side=\"left\" fill=\"currentColor\" text-anchor=\"middle\">nsubj</textPath></text><path class=\"displacy-arrowhead\" d=\"M200,199.0 L192,187.0 208,187.0\" fill=\"currentColor\"/></g><g class=\"displacy-arrow\"><path class=\"displacy-arc\" id=\"arrow-265369516a804dbc9142bd2172df00a1-0-2\" stroke-width=\"2px\" d=\"M460,197.0 C460,67.0 695.0,67.0 695.0,197.0\" fill=\"none\" stroke=\"currentColor\"/><text dy=\"1.25em\" style=\"font-size: 0.8em; letter-spacing: 1px\"><textPath xlink:href=\"#arrow-265369516a804dbc9142bd2172df00a1-0-2\" class=\"displacy-label\" startOffset=\"50%\" side=\"left\" fill=\"currentColor\" text-anchor=\"middle\">det</textPath></text><path class=\"displacy-arrowhead\" d=\"M460,199.0 L452,187.0 468,187.0\" fill=\"currentColor\"/></g><g class=\"displacy-arrow\"><path class=\"displacy-arc\" id=\"arrow-265369516a804dbc9142bd2172df00a1-0-3\" stroke-width=\"2px\" d=\"M590,197.0 C590,132.0 690.0,132.0 690.0,197.0\" fill=\"none\" stroke=\"currentColor\"/><text dy=\"1.25em\" style=\"font-size: 0.8em; letter-spacing: 1px\"><textPath xlink:href=\"#arrow-265369516a804dbc9142bd2172df00a1-0-3\" class=\"displacy-label\" startOffset=\"50%\" side=\"left\" fill=\"currentColor\" text-anchor=\"middle\">amod</textPath></text><path class=\"displacy-arrowhead\" d=\"M590,199.0 L582,187.0 598,187.0\" fill=\"currentColor\"/></g><g class=\"displacy-arrow\"><path class=\"displacy-arc\" id=\"arrow-265369516a804dbc9142bd2172df00a1-0-4\" stroke-width=\"2px\" d=\"M330,197.0 C330,2.0 700.0,2.0 700.0,197.0\" fill=\"none\" stroke=\"currentColor\"/><text dy=\"1.25em\" style=\"font-size: 0.8em; letter-spacing: 1px\"><textPath xlink:href=\"#arrow-265369516a804dbc9142bd2172df00a1-0-4\" class=\"displacy-label\" startOffset=\"50%\" side=\"left\" fill=\"currentColor\" text-anchor=\"middle\">attr</textPath></text><path class=\"displacy-arrowhead\" d=\"M700.0,199.0 L708.0,187.0 692.0,187.0\" fill=\"currentColor\"/></g></svg></span>"
            ]
          },
          "metadata": {}
        }
      ],
      "source": [
        "from spacy import displacy\n",
        "\n",
        "doc = nlp(\"New York is a large city\")\n",
        "displacy.render(doc, style=\"dep\",minify=True,jupyter=True,options={'distance':130})\n",
        "\n"
      ]
    },
    {
      "cell_type": "markdown",
      "metadata": {
        "id": "TpYUPvUiMl6r"
      },
      "source": [
        "### Exercise 1\n",
        "\n",
        "* Change the example above with a sentence that contains your name in it, and display the result. \n",
        "* Does your example contain words that are labeled with the part-of-speech tag PROPN? What does this tell you?\n",
        "* Proper names often consist of more than 1 word (_New York_). Is there a syntactic relation that tells you when two words that form a single proper name are indeed recognized as one name by the model?\n",
        "\n",
        "\n",
        "Apart from visualising the output of the model, we can also process it. The result of analyzing a text with Spacy is a list of *token* objects that have attributes such as .pos_ (note the underscore!) for its part-of-speech text. By iterating over the list of tokens, we can select certain tokens, and print some of its properties, as illustrated below. \n",
        "\n"
      ]
    },
    {
      "cell_type": "code",
      "execution_count": 6,
      "metadata": {
        "colab": {
          "base_uri": "https://localhost:8080/"
        },
        "id": "wc9ALOTGMl6v",
        "outputId": "8777814d-2862-457a-f984-a7afa5cd6916"
      },
      "outputs": [
        {
          "output_type": "stream",
          "name": "stdout",
          "text": [
            "hundreds hundred NOUN\n",
            "millions million NOUN\n",
            "people people NOUN\n",
            "array array NOUN\n",
            "tasks task NOUN\n",
            "email email NOUN\n",
            "services service NOUN\n",
            "tutors tutor NOUN\n",
            "search search NOUN\n",
            "engines engine NOUN\n",
            "way way NOUN\n",
            "people people NOUN\n",
            "information information NOUN\n",
            "way way NOUN\n",
            "systems system NOUN\n",
            "information information NOUN\n"
          ]
        }
      ],
      "source": [
        "text = '''\n",
        "Chatbots like ChatGPT are used by hundreds of millions of people for an increasingly wide array of tasks, including email services, online tutors and search engines. \n",
        "And they could change the way people interact with information. \n",
        "But there is no way of ensuring that these systems produce information that is accurate.\n",
        "'''\n",
        "\n",
        "doc = nlp(text)\n",
        "\n",
        "for word in doc:\n",
        "    if word.pos_ == \"NOUN\" :\n",
        "        print(word.text, word.lemma_, word.pos_)"
      ]
    },
    {
      "cell_type": "markdown",
      "metadata": {
        "id": "tc9fNmtYMl6z"
      },
      "source": [
        "### Exercise 3\n",
        "\n",
        "* Replace the text above with a recent news item. Modify the code to list all the proper names in the text. \n",
        "\n",
        "Side note: Long texts can also be visualised by Spacy on a per sentence basis. Try it for your example text:"
      ]
    },
    {
      "cell_type": "code",
      "execution_count": 7,
      "metadata": {
        "tags": [
          "full-width"
        ],
        "colab": {
          "base_uri": "https://localhost:8080/",
          "height": 1000
        },
        "id": "KdV7g-seMl62",
        "outputId": "993d9b2c-68b6-416f-e39b-b32cfd045985"
      },
      "outputs": [
        {
          "output_type": "display_data",
          "data": {
            "text/plain": [
              "<IPython.core.display.HTML object>"
            ],
            "text/html": [
              "<span class=\"tex2jax_ignore\"><svg xmlns=\"http://www.w3.org/2000/svg\" xmlns:xlink=\"http://www.w3.org/1999/xlink\" xml:lang=\"en\" id=\"d42d768c57974389814d0821494433e9-0\" class=\"displacy\" width=\"2850\" height=\"387.0\" direction=\"ltr\" style=\"max-width: none; height: 387.0px; color: #000000; background: #ffffff; font-family: Arial; direction: ltr\"><text class=\"displacy-token\" fill=\"currentColor\" text-anchor=\"middle\" y=\"297.0\"><tspan class=\"displacy-word\" fill=\"currentColor\" x=\"50\"></tspan><tspan class=\"displacy-tag\" dy=\"2em\" fill=\"currentColor\" x=\"50\">SPACE</tspan></text><text class=\"displacy-token\" fill=\"currentColor\" text-anchor=\"middle\" y=\"297.0\"><tspan class=\"displacy-word\" fill=\"currentColor\" x=\"150\">Chatbots</tspan><tspan class=\"displacy-tag\" dy=\"2em\" fill=\"currentColor\" x=\"150\">PROPN</tspan></text><text class=\"displacy-token\" fill=\"currentColor\" text-anchor=\"middle\" y=\"297.0\"><tspan class=\"displacy-word\" fill=\"currentColor\" x=\"250\">like</tspan><tspan class=\"displacy-tag\" dy=\"2em\" fill=\"currentColor\" x=\"250\">ADP</tspan></text><text class=\"displacy-token\" fill=\"currentColor\" text-anchor=\"middle\" y=\"297.0\"><tspan class=\"displacy-word\" fill=\"currentColor\" x=\"350\">ChatGPT</tspan><tspan class=\"displacy-tag\" dy=\"2em\" fill=\"currentColor\" x=\"350\">PROPN</tspan></text><text class=\"displacy-token\" fill=\"currentColor\" text-anchor=\"middle\" y=\"297.0\"><tspan class=\"displacy-word\" fill=\"currentColor\" x=\"450\">are</tspan><tspan class=\"displacy-tag\" dy=\"2em\" fill=\"currentColor\" x=\"450\">AUX</tspan></text><text class=\"displacy-token\" fill=\"currentColor\" text-anchor=\"middle\" y=\"297.0\"><tspan class=\"displacy-word\" fill=\"currentColor\" x=\"550\">used</tspan><tspan class=\"displacy-tag\" dy=\"2em\" fill=\"currentColor\" x=\"550\">VERB</tspan></text><text class=\"displacy-token\" fill=\"currentColor\" text-anchor=\"middle\" y=\"297.0\"><tspan class=\"displacy-word\" fill=\"currentColor\" x=\"650\">by</tspan><tspan class=\"displacy-tag\" dy=\"2em\" fill=\"currentColor\" x=\"650\">ADP</tspan></text><text class=\"displacy-token\" fill=\"currentColor\" text-anchor=\"middle\" y=\"297.0\"><tspan class=\"displacy-word\" fill=\"currentColor\" x=\"750\">hundreds</tspan><tspan class=\"displacy-tag\" dy=\"2em\" fill=\"currentColor\" x=\"750\">NOUN</tspan></text><text class=\"displacy-token\" fill=\"currentColor\" text-anchor=\"middle\" y=\"297.0\"><tspan class=\"displacy-word\" fill=\"currentColor\" x=\"850\">of</tspan><tspan class=\"displacy-tag\" dy=\"2em\" fill=\"currentColor\" x=\"850\">ADP</tspan></text><text class=\"displacy-token\" fill=\"currentColor\" text-anchor=\"middle\" y=\"297.0\"><tspan class=\"displacy-word\" fill=\"currentColor\" x=\"950\">millions</tspan><tspan class=\"displacy-tag\" dy=\"2em\" fill=\"currentColor\" x=\"950\">NOUN</tspan></text><text class=\"displacy-token\" fill=\"currentColor\" text-anchor=\"middle\" y=\"297.0\"><tspan class=\"displacy-word\" fill=\"currentColor\" x=\"1050\">of</tspan><tspan class=\"displacy-tag\" dy=\"2em\" fill=\"currentColor\" x=\"1050\">ADP</tspan></text><text class=\"displacy-token\" fill=\"currentColor\" text-anchor=\"middle\" y=\"297.0\"><tspan class=\"displacy-word\" fill=\"currentColor\" x=\"1150\">people</tspan><tspan class=\"displacy-tag\" dy=\"2em\" fill=\"currentColor\" x=\"1150\">NOUN</tspan></text><text class=\"displacy-token\" fill=\"currentColor\" text-anchor=\"middle\" y=\"297.0\"><tspan class=\"displacy-word\" fill=\"currentColor\" x=\"1250\">for</tspan><tspan class=\"displacy-tag\" dy=\"2em\" fill=\"currentColor\" x=\"1250\">ADP</tspan></text><text class=\"displacy-token\" fill=\"currentColor\" text-anchor=\"middle\" y=\"297.0\"><tspan class=\"displacy-word\" fill=\"currentColor\" x=\"1350\">an</tspan><tspan class=\"displacy-tag\" dy=\"2em\" fill=\"currentColor\" x=\"1350\">DET</tspan></text><text class=\"displacy-token\" fill=\"currentColor\" text-anchor=\"middle\" y=\"297.0\"><tspan class=\"displacy-word\" fill=\"currentColor\" x=\"1450\">increasingly</tspan><tspan class=\"displacy-tag\" dy=\"2em\" fill=\"currentColor\" x=\"1450\">ADV</tspan></text><text class=\"displacy-token\" fill=\"currentColor\" text-anchor=\"middle\" y=\"297.0\"><tspan class=\"displacy-word\" fill=\"currentColor\" x=\"1550\">wide</tspan><tspan class=\"displacy-tag\" dy=\"2em\" fill=\"currentColor\" x=\"1550\">ADJ</tspan></text><text class=\"displacy-token\" fill=\"currentColor\" text-anchor=\"middle\" y=\"297.0\"><tspan class=\"displacy-word\" fill=\"currentColor\" x=\"1650\">array</tspan><tspan class=\"displacy-tag\" dy=\"2em\" fill=\"currentColor\" x=\"1650\">NOUN</tspan></text><text class=\"displacy-token\" fill=\"currentColor\" text-anchor=\"middle\" y=\"297.0\"><tspan class=\"displacy-word\" fill=\"currentColor\" x=\"1750\">of</tspan><tspan class=\"displacy-tag\" dy=\"2em\" fill=\"currentColor\" x=\"1750\">ADP</tspan></text><text class=\"displacy-token\" fill=\"currentColor\" text-anchor=\"middle\" y=\"297.0\"><tspan class=\"displacy-word\" fill=\"currentColor\" x=\"1850\">tasks,</tspan><tspan class=\"displacy-tag\" dy=\"2em\" fill=\"currentColor\" x=\"1850\">NOUN</tspan></text><text class=\"displacy-token\" fill=\"currentColor\" text-anchor=\"middle\" y=\"297.0\"><tspan class=\"displacy-word\" fill=\"currentColor\" x=\"1950\">including</tspan><tspan class=\"displacy-tag\" dy=\"2em\" fill=\"currentColor\" x=\"1950\">VERB</tspan></text><text class=\"displacy-token\" fill=\"currentColor\" text-anchor=\"middle\" y=\"297.0\"><tspan class=\"displacy-word\" fill=\"currentColor\" x=\"2050\">email</tspan><tspan class=\"displacy-tag\" dy=\"2em\" fill=\"currentColor\" x=\"2050\">NOUN</tspan></text><text class=\"displacy-token\" fill=\"currentColor\" text-anchor=\"middle\" y=\"297.0\"><tspan class=\"displacy-word\" fill=\"currentColor\" x=\"2150\">services,</tspan><tspan class=\"displacy-tag\" dy=\"2em\" fill=\"currentColor\" x=\"2150\">NOUN</tspan></text><text class=\"displacy-token\" fill=\"currentColor\" text-anchor=\"middle\" y=\"297.0\"><tspan class=\"displacy-word\" fill=\"currentColor\" x=\"2250\">online</tspan><tspan class=\"displacy-tag\" dy=\"2em\" fill=\"currentColor\" x=\"2250\">ADJ</tspan></text><text class=\"displacy-token\" fill=\"currentColor\" text-anchor=\"middle\" y=\"297.0\"><tspan class=\"displacy-word\" fill=\"currentColor\" x=\"2350\">tutors</tspan><tspan class=\"displacy-tag\" dy=\"2em\" fill=\"currentColor\" x=\"2350\">NOUN</tspan></text><text class=\"displacy-token\" fill=\"currentColor\" text-anchor=\"middle\" y=\"297.0\"><tspan class=\"displacy-word\" fill=\"currentColor\" x=\"2450\">and</tspan><tspan class=\"displacy-tag\" dy=\"2em\" fill=\"currentColor\" x=\"2450\">CCONJ</tspan></text><text class=\"displacy-token\" fill=\"currentColor\" text-anchor=\"middle\" y=\"297.0\"><tspan class=\"displacy-word\" fill=\"currentColor\" x=\"2550\">search</tspan><tspan class=\"displacy-tag\" dy=\"2em\" fill=\"currentColor\" x=\"2550\">NOUN</tspan></text><text class=\"displacy-token\" fill=\"currentColor\" text-anchor=\"middle\" y=\"297.0\"><tspan class=\"displacy-word\" fill=\"currentColor\" x=\"2650\">engines.</tspan><tspan class=\"displacy-tag\" dy=\"2em\" fill=\"currentColor\" x=\"2650\">PUNCT</tspan></text><text class=\"displacy-token\" fill=\"currentColor\" text-anchor=\"middle\" y=\"297.0\"><tspan class=\"displacy-word\" fill=\"currentColor\" x=\"2750\"></tspan><tspan class=\"displacy-tag\" dy=\"2em\" fill=\"currentColor\" x=\"2750\">SPACE</tspan></text><g class=\"displacy-arrow\"><path class=\"displacy-arc\" id=\"arrow-d42d768c57974389814d0821494433e9-0-0\" stroke-width=\"2px\" d=\"M70,252.0 C70,202.0 130.0,202.0 130.0,252.0\" fill=\"none\" stroke=\"currentColor\"/><text dy=\"1.25em\" style=\"font-size: 0.8em; letter-spacing: 1px\"><textPath xlink:href=\"#arrow-d42d768c57974389814d0821494433e9-0-0\" class=\"displacy-label\" startOffset=\"50%\" side=\"left\" fill=\"currentColor\" text-anchor=\"middle\">dep</textPath></text><path class=\"displacy-arrowhead\" d=\"M70,254.0 L62,242.0 78,242.0\" fill=\"currentColor\"/></g><g class=\"displacy-arrow\"><path class=\"displacy-arc\" id=\"arrow-d42d768c57974389814d0821494433e9-0-1\" stroke-width=\"2px\" d=\"M170,252.0 C170,152.0 535.0,152.0 535.0,252.0\" fill=\"none\" stroke=\"currentColor\"/><text dy=\"1.25em\" style=\"font-size: 0.8em; letter-spacing: 1px\"><textPath xlink:href=\"#arrow-d42d768c57974389814d0821494433e9-0-1\" class=\"displacy-label\" startOffset=\"50%\" side=\"left\" fill=\"currentColor\" text-anchor=\"middle\">nsubjpass</textPath></text><path class=\"displacy-arrowhead\" d=\"M170,254.0 L162,242.0 178,242.0\" fill=\"currentColor\"/></g><g class=\"displacy-arrow\"><path class=\"displacy-arc\" id=\"arrow-d42d768c57974389814d0821494433e9-0-2\" stroke-width=\"2px\" d=\"M170,252.0 C170,202.0 230.0,202.0 230.0,252.0\" fill=\"none\" stroke=\"currentColor\"/><text dy=\"1.25em\" style=\"font-size: 0.8em; letter-spacing: 1px\"><textPath xlink:href=\"#arrow-d42d768c57974389814d0821494433e9-0-2\" class=\"displacy-label\" startOffset=\"50%\" side=\"left\" fill=\"currentColor\" text-anchor=\"middle\">prep</textPath></text><path class=\"displacy-arrowhead\" d=\"M230.0,254.0 L238.0,242.0 222.0,242.0\" fill=\"currentColor\"/></g><g class=\"displacy-arrow\"><path class=\"displacy-arc\" id=\"arrow-d42d768c57974389814d0821494433e9-0-3\" stroke-width=\"2px\" d=\"M270,252.0 C270,202.0 330.0,202.0 330.0,252.0\" fill=\"none\" stroke=\"currentColor\"/><text dy=\"1.25em\" style=\"font-size: 0.8em; letter-spacing: 1px\"><textPath xlink:href=\"#arrow-d42d768c57974389814d0821494433e9-0-3\" class=\"displacy-label\" startOffset=\"50%\" side=\"left\" fill=\"currentColor\" text-anchor=\"middle\">pobj</textPath></text><path class=\"displacy-arrowhead\" d=\"M330.0,254.0 L338.0,242.0 322.0,242.0\" fill=\"currentColor\"/></g><g class=\"displacy-arrow\"><path class=\"displacy-arc\" id=\"arrow-d42d768c57974389814d0821494433e9-0-4\" stroke-width=\"2px\" d=\"M470,252.0 C470,202.0 530.0,202.0 530.0,252.0\" fill=\"none\" stroke=\"currentColor\"/><text dy=\"1.25em\" style=\"font-size: 0.8em; letter-spacing: 1px\"><textPath xlink:href=\"#arrow-d42d768c57974389814d0821494433e9-0-4\" class=\"displacy-label\" startOffset=\"50%\" side=\"left\" fill=\"currentColor\" text-anchor=\"middle\">auxpass</textPath></text><path class=\"displacy-arrowhead\" d=\"M470,254.0 L462,242.0 478,242.0\" fill=\"currentColor\"/></g><g class=\"displacy-arrow\"><path class=\"displacy-arc\" id=\"arrow-d42d768c57974389814d0821494433e9-0-5\" stroke-width=\"2px\" d=\"M570,252.0 C570,202.0 630.0,202.0 630.0,252.0\" fill=\"none\" stroke=\"currentColor\"/><text dy=\"1.25em\" style=\"font-size: 0.8em; letter-spacing: 1px\"><textPath xlink:href=\"#arrow-d42d768c57974389814d0821494433e9-0-5\" class=\"displacy-label\" startOffset=\"50%\" side=\"left\" fill=\"currentColor\" text-anchor=\"middle\">agent</textPath></text><path class=\"displacy-arrowhead\" d=\"M630.0,254.0 L638.0,242.0 622.0,242.0\" fill=\"currentColor\"/></g><g class=\"displacy-arrow\"><path class=\"displacy-arc\" id=\"arrow-d42d768c57974389814d0821494433e9-0-6\" stroke-width=\"2px\" d=\"M770,252.0 C770,152.0 935.0,152.0 935.0,252.0\" fill=\"none\" stroke=\"currentColor\"/><text dy=\"1.25em\" style=\"font-size: 0.8em; letter-spacing: 1px\"><textPath xlink:href=\"#arrow-d42d768c57974389814d0821494433e9-0-6\" class=\"displacy-label\" startOffset=\"50%\" side=\"left\" fill=\"currentColor\" text-anchor=\"middle\">quantmod</textPath></text><path class=\"displacy-arrowhead\" d=\"M770,254.0 L762,242.0 778,242.0\" fill=\"currentColor\"/></g><g class=\"displacy-arrow\"><path class=\"displacy-arc\" id=\"arrow-d42d768c57974389814d0821494433e9-0-7\" stroke-width=\"2px\" d=\"M870,252.0 C870,202.0 930.0,202.0 930.0,252.0\" fill=\"none\" stroke=\"currentColor\"/><text dy=\"1.25em\" style=\"font-size: 0.8em; letter-spacing: 1px\"><textPath xlink:href=\"#arrow-d42d768c57974389814d0821494433e9-0-7\" class=\"displacy-label\" startOffset=\"50%\" side=\"left\" fill=\"currentColor\" text-anchor=\"middle\">quantmod</textPath></text><path class=\"displacy-arrowhead\" d=\"M870,254.0 L862,242.0 878,242.0\" fill=\"currentColor\"/></g><g class=\"displacy-arrow\"><path class=\"displacy-arc\" id=\"arrow-d42d768c57974389814d0821494433e9-0-8\" stroke-width=\"2px\" d=\"M670,252.0 C670,102.0 940.0,102.0 940.0,252.0\" fill=\"none\" stroke=\"currentColor\"/><text dy=\"1.25em\" style=\"font-size: 0.8em; letter-spacing: 1px\"><textPath xlink:href=\"#arrow-d42d768c57974389814d0821494433e9-0-8\" class=\"displacy-label\" startOffset=\"50%\" side=\"left\" fill=\"currentColor\" text-anchor=\"middle\">pobj</textPath></text><path class=\"displacy-arrowhead\" d=\"M940.0,254.0 L948.0,242.0 932.0,242.0\" fill=\"currentColor\"/></g><g class=\"displacy-arrow\"><path class=\"displacy-arc\" id=\"arrow-d42d768c57974389814d0821494433e9-0-9\" stroke-width=\"2px\" d=\"M970,252.0 C970,202.0 1030.0,202.0 1030.0,252.0\" fill=\"none\" stroke=\"currentColor\"/><text dy=\"1.25em\" style=\"font-size: 0.8em; letter-spacing: 1px\"><textPath xlink:href=\"#arrow-d42d768c57974389814d0821494433e9-0-9\" class=\"displacy-label\" startOffset=\"50%\" side=\"left\" fill=\"currentColor\" text-anchor=\"middle\">prep</textPath></text><path class=\"displacy-arrowhead\" d=\"M1030.0,254.0 L1038.0,242.0 1022.0,242.0\" fill=\"currentColor\"/></g><g class=\"displacy-arrow\"><path class=\"displacy-arc\" id=\"arrow-d42d768c57974389814d0821494433e9-0-10\" stroke-width=\"2px\" d=\"M1070,252.0 C1070,202.0 1130.0,202.0 1130.0,252.0\" fill=\"none\" stroke=\"currentColor\"/><text dy=\"1.25em\" style=\"font-size: 0.8em; letter-spacing: 1px\"><textPath xlink:href=\"#arrow-d42d768c57974389814d0821494433e9-0-10\" class=\"displacy-label\" startOffset=\"50%\" side=\"left\" fill=\"currentColor\" text-anchor=\"middle\">pobj</textPath></text><path class=\"displacy-arrowhead\" d=\"M1130.0,254.0 L1138.0,242.0 1122.0,242.0\" fill=\"currentColor\"/></g><g class=\"displacy-arrow\"><path class=\"displacy-arc\" id=\"arrow-d42d768c57974389814d0821494433e9-0-11\" stroke-width=\"2px\" d=\"M570,252.0 C570,52.0 1245.0,52.0 1245.0,252.0\" fill=\"none\" stroke=\"currentColor\"/><text dy=\"1.25em\" style=\"font-size: 0.8em; letter-spacing: 1px\"><textPath xlink:href=\"#arrow-d42d768c57974389814d0821494433e9-0-11\" class=\"displacy-label\" startOffset=\"50%\" side=\"left\" fill=\"currentColor\" text-anchor=\"middle\">prep</textPath></text><path class=\"displacy-arrowhead\" d=\"M1245.0,254.0 L1253.0,242.0 1237.0,242.0\" fill=\"currentColor\"/></g><g class=\"displacy-arrow\"><path class=\"displacy-arc\" id=\"arrow-d42d768c57974389814d0821494433e9-0-12\" stroke-width=\"2px\" d=\"M1370,252.0 C1370,152.0 1635.0,152.0 1635.0,252.0\" fill=\"none\" stroke=\"currentColor\"/><text dy=\"1.25em\" style=\"font-size: 0.8em; letter-spacing: 1px\"><textPath xlink:href=\"#arrow-d42d768c57974389814d0821494433e9-0-12\" class=\"displacy-label\" startOffset=\"50%\" side=\"left\" fill=\"currentColor\" text-anchor=\"middle\">det</textPath></text><path class=\"displacy-arrowhead\" d=\"M1370,254.0 L1362,242.0 1378,242.0\" fill=\"currentColor\"/></g><g class=\"displacy-arrow\"><path class=\"displacy-arc\" id=\"arrow-d42d768c57974389814d0821494433e9-0-13\" stroke-width=\"2px\" d=\"M1470,252.0 C1470,202.0 1530.0,202.0 1530.0,252.0\" fill=\"none\" stroke=\"currentColor\"/><text dy=\"1.25em\" style=\"font-size: 0.8em; letter-spacing: 1px\"><textPath xlink:href=\"#arrow-d42d768c57974389814d0821494433e9-0-13\" class=\"displacy-label\" startOffset=\"50%\" side=\"left\" fill=\"currentColor\" text-anchor=\"middle\">advmod</textPath></text><path class=\"displacy-arrowhead\" d=\"M1470,254.0 L1462,242.0 1478,242.0\" fill=\"currentColor\"/></g><g class=\"displacy-arrow\"><path class=\"displacy-arc\" id=\"arrow-d42d768c57974389814d0821494433e9-0-14\" stroke-width=\"2px\" d=\"M1570,252.0 C1570,202.0 1630.0,202.0 1630.0,252.0\" fill=\"none\" stroke=\"currentColor\"/><text dy=\"1.25em\" style=\"font-size: 0.8em; letter-spacing: 1px\"><textPath xlink:href=\"#arrow-d42d768c57974389814d0821494433e9-0-14\" class=\"displacy-label\" startOffset=\"50%\" side=\"left\" fill=\"currentColor\" text-anchor=\"middle\">amod</textPath></text><path class=\"displacy-arrowhead\" d=\"M1570,254.0 L1562,242.0 1578,242.0\" fill=\"currentColor\"/></g><g class=\"displacy-arrow\"><path class=\"displacy-arc\" id=\"arrow-d42d768c57974389814d0821494433e9-0-15\" stroke-width=\"2px\" d=\"M1270,252.0 C1270,102.0 1640.0,102.0 1640.0,252.0\" fill=\"none\" stroke=\"currentColor\"/><text dy=\"1.25em\" style=\"font-size: 0.8em; letter-spacing: 1px\"><textPath xlink:href=\"#arrow-d42d768c57974389814d0821494433e9-0-15\" class=\"displacy-label\" startOffset=\"50%\" side=\"left\" fill=\"currentColor\" text-anchor=\"middle\">pobj</textPath></text><path class=\"displacy-arrowhead\" d=\"M1640.0,254.0 L1648.0,242.0 1632.0,242.0\" fill=\"currentColor\"/></g><g class=\"displacy-arrow\"><path class=\"displacy-arc\" id=\"arrow-d42d768c57974389814d0821494433e9-0-16\" stroke-width=\"2px\" d=\"M1670,252.0 C1670,202.0 1730.0,202.0 1730.0,252.0\" fill=\"none\" stroke=\"currentColor\"/><text dy=\"1.25em\" style=\"font-size: 0.8em; letter-spacing: 1px\"><textPath xlink:href=\"#arrow-d42d768c57974389814d0821494433e9-0-16\" class=\"displacy-label\" startOffset=\"50%\" side=\"left\" fill=\"currentColor\" text-anchor=\"middle\">prep</textPath></text><path class=\"displacy-arrowhead\" d=\"M1730.0,254.0 L1738.0,242.0 1722.0,242.0\" fill=\"currentColor\"/></g><g class=\"displacy-arrow\"><path class=\"displacy-arc\" id=\"arrow-d42d768c57974389814d0821494433e9-0-17\" stroke-width=\"2px\" d=\"M1770,252.0 C1770,202.0 1830.0,202.0 1830.0,252.0\" fill=\"none\" stroke=\"currentColor\"/><text dy=\"1.25em\" style=\"font-size: 0.8em; letter-spacing: 1px\"><textPath xlink:href=\"#arrow-d42d768c57974389814d0821494433e9-0-17\" class=\"displacy-label\" startOffset=\"50%\" side=\"left\" fill=\"currentColor\" text-anchor=\"middle\">pobj</textPath></text><path class=\"displacy-arrowhead\" d=\"M1830.0,254.0 L1838.0,242.0 1822.0,242.0\" fill=\"currentColor\"/></g><g class=\"displacy-arrow\"><path class=\"displacy-arc\" id=\"arrow-d42d768c57974389814d0821494433e9-0-18\" stroke-width=\"2px\" d=\"M1870,252.0 C1870,202.0 1930.0,202.0 1930.0,252.0\" fill=\"none\" stroke=\"currentColor\"/><text dy=\"1.25em\" style=\"font-size: 0.8em; letter-spacing: 1px\"><textPath xlink:href=\"#arrow-d42d768c57974389814d0821494433e9-0-18\" class=\"displacy-label\" startOffset=\"50%\" side=\"left\" fill=\"currentColor\" text-anchor=\"middle\">prep</textPath></text><path class=\"displacy-arrowhead\" d=\"M1930.0,254.0 L1938.0,242.0 1922.0,242.0\" fill=\"currentColor\"/></g><g class=\"displacy-arrow\"><path class=\"displacy-arc\" id=\"arrow-d42d768c57974389814d0821494433e9-0-19\" stroke-width=\"2px\" d=\"M2070,252.0 C2070,202.0 2130.0,202.0 2130.0,252.0\" fill=\"none\" stroke=\"currentColor\"/><text dy=\"1.25em\" style=\"font-size: 0.8em; letter-spacing: 1px\"><textPath xlink:href=\"#arrow-d42d768c57974389814d0821494433e9-0-19\" class=\"displacy-label\" startOffset=\"50%\" side=\"left\" fill=\"currentColor\" text-anchor=\"middle\">compound</textPath></text><path class=\"displacy-arrowhead\" d=\"M2070,254.0 L2062,242.0 2078,242.0\" fill=\"currentColor\"/></g><g class=\"displacy-arrow\"><path class=\"displacy-arc\" id=\"arrow-d42d768c57974389814d0821494433e9-0-20\" stroke-width=\"2px\" d=\"M1970,252.0 C1970,152.0 2135.0,152.0 2135.0,252.0\" fill=\"none\" stroke=\"currentColor\"/><text dy=\"1.25em\" style=\"font-size: 0.8em; letter-spacing: 1px\"><textPath xlink:href=\"#arrow-d42d768c57974389814d0821494433e9-0-20\" class=\"displacy-label\" startOffset=\"50%\" side=\"left\" fill=\"currentColor\" text-anchor=\"middle\">pobj</textPath></text><path class=\"displacy-arrowhead\" d=\"M2135.0,254.0 L2143.0,242.0 2127.0,242.0\" fill=\"currentColor\"/></g><g class=\"displacy-arrow\"><path class=\"displacy-arc\" id=\"arrow-d42d768c57974389814d0821494433e9-0-21\" stroke-width=\"2px\" d=\"M2270,252.0 C2270,202.0 2330.0,202.0 2330.0,252.0\" fill=\"none\" stroke=\"currentColor\"/><text dy=\"1.25em\" style=\"font-size: 0.8em; letter-spacing: 1px\"><textPath xlink:href=\"#arrow-d42d768c57974389814d0821494433e9-0-21\" class=\"displacy-label\" startOffset=\"50%\" side=\"left\" fill=\"currentColor\" text-anchor=\"middle\">amod</textPath></text><path class=\"displacy-arrowhead\" d=\"M2270,254.0 L2262,242.0 2278,242.0\" fill=\"currentColor\"/></g><g class=\"displacy-arrow\"><path class=\"displacy-arc\" id=\"arrow-d42d768c57974389814d0821494433e9-0-22\" stroke-width=\"2px\" d=\"M2170,252.0 C2170,152.0 2335.0,152.0 2335.0,252.0\" fill=\"none\" stroke=\"currentColor\"/><text dy=\"1.25em\" style=\"font-size: 0.8em; letter-spacing: 1px\"><textPath xlink:href=\"#arrow-d42d768c57974389814d0821494433e9-0-22\" class=\"displacy-label\" startOffset=\"50%\" side=\"left\" fill=\"currentColor\" text-anchor=\"middle\">conj</textPath></text><path class=\"displacy-arrowhead\" d=\"M2335.0,254.0 L2343.0,242.0 2327.0,242.0\" fill=\"currentColor\"/></g><g class=\"displacy-arrow\"><path class=\"displacy-arc\" id=\"arrow-d42d768c57974389814d0821494433e9-0-23\" stroke-width=\"2px\" d=\"M2370,252.0 C2370,202.0 2430.0,202.0 2430.0,252.0\" fill=\"none\" stroke=\"currentColor\"/><text dy=\"1.25em\" style=\"font-size: 0.8em; letter-spacing: 1px\"><textPath xlink:href=\"#arrow-d42d768c57974389814d0821494433e9-0-23\" class=\"displacy-label\" startOffset=\"50%\" side=\"left\" fill=\"currentColor\" text-anchor=\"middle\">cc</textPath></text><path class=\"displacy-arrowhead\" d=\"M2430.0,254.0 L2438.0,242.0 2422.0,242.0\" fill=\"currentColor\"/></g><g class=\"displacy-arrow\"><path class=\"displacy-arc\" id=\"arrow-d42d768c57974389814d0821494433e9-0-24\" stroke-width=\"2px\" d=\"M2570,252.0 C2570,202.0 2630.0,202.0 2630.0,252.0\" fill=\"none\" stroke=\"currentColor\"/><text dy=\"1.25em\" style=\"font-size: 0.8em; letter-spacing: 1px\"><textPath xlink:href=\"#arrow-d42d768c57974389814d0821494433e9-0-24\" class=\"displacy-label\" startOffset=\"50%\" side=\"left\" fill=\"currentColor\" text-anchor=\"middle\">compound</textPath></text><path class=\"displacy-arrowhead\" d=\"M2570,254.0 L2562,242.0 2578,242.0\" fill=\"currentColor\"/></g><g class=\"displacy-arrow\"><path class=\"displacy-arc\" id=\"arrow-d42d768c57974389814d0821494433e9-0-25\" stroke-width=\"2px\" d=\"M570,252.0 C570,2.0 2650.0,2.0 2650.0,252.0\" fill=\"none\" stroke=\"currentColor\"/><text dy=\"1.25em\" style=\"font-size: 0.8em; letter-spacing: 1px\"><textPath xlink:href=\"#arrow-d42d768c57974389814d0821494433e9-0-25\" class=\"displacy-label\" startOffset=\"50%\" side=\"left\" fill=\"currentColor\" text-anchor=\"middle\">punct</textPath></text><path class=\"displacy-arrowhead\" d=\"M2650.0,254.0 L2658.0,242.0 2642.0,242.0\" fill=\"currentColor\"/></g><g class=\"displacy-arrow\"><path class=\"displacy-arc\" id=\"arrow-d42d768c57974389814d0821494433e9-0-26\" stroke-width=\"2px\" d=\"M2670,252.0 C2670,202.0 2730.0,202.0 2730.0,252.0\" fill=\"none\" stroke=\"currentColor\"/><text dy=\"1.25em\" style=\"font-size: 0.8em; letter-spacing: 1px\"><textPath xlink:href=\"#arrow-d42d768c57974389814d0821494433e9-0-26\" class=\"displacy-label\" startOffset=\"50%\" side=\"left\" fill=\"currentColor\" text-anchor=\"middle\">dep</textPath></text><path class=\"displacy-arrowhead\" d=\"M2730.0,254.0 L2738.0,242.0 2722.0,242.0\" fill=\"currentColor\"/></g></svg><svg xmlns=\"http://www.w3.org/2000/svg\" xmlns:xlink=\"http://www.w3.org/1999/xlink\" xml:lang=\"en\" id=\"d42d768c57974389814d0821494433e9-1\" class=\"displacy\" width=\"1150\" height=\"287.0\" direction=\"ltr\" style=\"max-width: none; height: 287.0px; color: #000000; background: #ffffff; font-family: Arial; direction: ltr\"><text class=\"displacy-token\" fill=\"currentColor\" text-anchor=\"middle\" y=\"197.0\"><tspan class=\"displacy-word\" fill=\"currentColor\" x=\"50\">And</tspan><tspan class=\"displacy-tag\" dy=\"2em\" fill=\"currentColor\" x=\"50\">CCONJ</tspan></text><text class=\"displacy-token\" fill=\"currentColor\" text-anchor=\"middle\" y=\"197.0\"><tspan class=\"displacy-word\" fill=\"currentColor\" x=\"150\">they</tspan><tspan class=\"displacy-tag\" dy=\"2em\" fill=\"currentColor\" x=\"150\">PRON</tspan></text><text class=\"displacy-token\" fill=\"currentColor\" text-anchor=\"middle\" y=\"197.0\"><tspan class=\"displacy-word\" fill=\"currentColor\" x=\"250\">could</tspan><tspan class=\"displacy-tag\" dy=\"2em\" fill=\"currentColor\" x=\"250\">AUX</tspan></text><text class=\"displacy-token\" fill=\"currentColor\" text-anchor=\"middle\" y=\"197.0\"><tspan class=\"displacy-word\" fill=\"currentColor\" x=\"350\">change</tspan><tspan class=\"displacy-tag\" dy=\"2em\" fill=\"currentColor\" x=\"350\">VERB</tspan></text><text class=\"displacy-token\" fill=\"currentColor\" text-anchor=\"middle\" y=\"197.0\"><tspan class=\"displacy-word\" fill=\"currentColor\" x=\"450\">the</tspan><tspan class=\"displacy-tag\" dy=\"2em\" fill=\"currentColor\" x=\"450\">DET</tspan></text><text class=\"displacy-token\" fill=\"currentColor\" text-anchor=\"middle\" y=\"197.0\"><tspan class=\"displacy-word\" fill=\"currentColor\" x=\"550\">way</tspan><tspan class=\"displacy-tag\" dy=\"2em\" fill=\"currentColor\" x=\"550\">NOUN</tspan></text><text class=\"displacy-token\" fill=\"currentColor\" text-anchor=\"middle\" y=\"197.0\"><tspan class=\"displacy-word\" fill=\"currentColor\" x=\"650\">people</tspan><tspan class=\"displacy-tag\" dy=\"2em\" fill=\"currentColor\" x=\"650\">NOUN</tspan></text><text class=\"displacy-token\" fill=\"currentColor\" text-anchor=\"middle\" y=\"197.0\"><tspan class=\"displacy-word\" fill=\"currentColor\" x=\"750\">interact</tspan><tspan class=\"displacy-tag\" dy=\"2em\" fill=\"currentColor\" x=\"750\">VERB</tspan></text><text class=\"displacy-token\" fill=\"currentColor\" text-anchor=\"middle\" y=\"197.0\"><tspan class=\"displacy-word\" fill=\"currentColor\" x=\"850\">with</tspan><tspan class=\"displacy-tag\" dy=\"2em\" fill=\"currentColor\" x=\"850\">ADP</tspan></text><text class=\"displacy-token\" fill=\"currentColor\" text-anchor=\"middle\" y=\"197.0\"><tspan class=\"displacy-word\" fill=\"currentColor\" x=\"950\">information.</tspan><tspan class=\"displacy-tag\" dy=\"2em\" fill=\"currentColor\" x=\"950\">PUNCT</tspan></text><text class=\"displacy-token\" fill=\"currentColor\" text-anchor=\"middle\" y=\"197.0\"><tspan class=\"displacy-word\" fill=\"currentColor\" x=\"1050\"></tspan><tspan class=\"displacy-tag\" dy=\"2em\" fill=\"currentColor\" x=\"1050\">SPACE</tspan></text><g class=\"displacy-arrow\"><path class=\"displacy-arc\" id=\"arrow-d42d768c57974389814d0821494433e9-1-0\" stroke-width=\"2px\" d=\"M70,152.0 C70,2.0 350.0,2.0 350.0,152.0\" fill=\"none\" stroke=\"currentColor\"/><text dy=\"1.25em\" style=\"font-size: 0.8em; letter-spacing: 1px\"><textPath xlink:href=\"#arrow-d42d768c57974389814d0821494433e9-1-0\" class=\"displacy-label\" startOffset=\"50%\" side=\"left\" fill=\"currentColor\" text-anchor=\"middle\">cc</textPath></text><path class=\"displacy-arrowhead\" d=\"M70,154.0 L62,142.0 78,142.0\" fill=\"currentColor\"/></g><g class=\"displacy-arrow\"><path class=\"displacy-arc\" id=\"arrow-d42d768c57974389814d0821494433e9-1-1\" stroke-width=\"2px\" d=\"M170,152.0 C170,52.0 345.0,52.0 345.0,152.0\" fill=\"none\" stroke=\"currentColor\"/><text dy=\"1.25em\" style=\"font-size: 0.8em; letter-spacing: 1px\"><textPath xlink:href=\"#arrow-d42d768c57974389814d0821494433e9-1-1\" class=\"displacy-label\" startOffset=\"50%\" side=\"left\" fill=\"currentColor\" text-anchor=\"middle\">nsubj</textPath></text><path class=\"displacy-arrowhead\" d=\"M170,154.0 L162,142.0 178,142.0\" fill=\"currentColor\"/></g><g class=\"displacy-arrow\"><path class=\"displacy-arc\" id=\"arrow-d42d768c57974389814d0821494433e9-1-2\" stroke-width=\"2px\" d=\"M270,152.0 C270,102.0 340.0,102.0 340.0,152.0\" fill=\"none\" stroke=\"currentColor\"/><text dy=\"1.25em\" style=\"font-size: 0.8em; letter-spacing: 1px\"><textPath xlink:href=\"#arrow-d42d768c57974389814d0821494433e9-1-2\" class=\"displacy-label\" startOffset=\"50%\" side=\"left\" fill=\"currentColor\" text-anchor=\"middle\">aux</textPath></text><path class=\"displacy-arrowhead\" d=\"M270,154.0 L262,142.0 278,142.0\" fill=\"currentColor\"/></g><g class=\"displacy-arrow\"><path class=\"displacy-arc\" id=\"arrow-d42d768c57974389814d0821494433e9-1-3\" stroke-width=\"2px\" d=\"M470,152.0 C470,102.0 540.0,102.0 540.0,152.0\" fill=\"none\" stroke=\"currentColor\"/><text dy=\"1.25em\" style=\"font-size: 0.8em; letter-spacing: 1px\"><textPath xlink:href=\"#arrow-d42d768c57974389814d0821494433e9-1-3\" class=\"displacy-label\" startOffset=\"50%\" side=\"left\" fill=\"currentColor\" text-anchor=\"middle\">det</textPath></text><path class=\"displacy-arrowhead\" d=\"M470,154.0 L462,142.0 478,142.0\" fill=\"currentColor\"/></g><g class=\"displacy-arrow\"><path class=\"displacy-arc\" id=\"arrow-d42d768c57974389814d0821494433e9-1-4\" stroke-width=\"2px\" d=\"M370,152.0 C370,52.0 545.0,52.0 545.0,152.0\" fill=\"none\" stroke=\"currentColor\"/><text dy=\"1.25em\" style=\"font-size: 0.8em; letter-spacing: 1px\"><textPath xlink:href=\"#arrow-d42d768c57974389814d0821494433e9-1-4\" class=\"displacy-label\" startOffset=\"50%\" side=\"left\" fill=\"currentColor\" text-anchor=\"middle\">dobj</textPath></text><path class=\"displacy-arrowhead\" d=\"M545.0,154.0 L553.0,142.0 537.0,142.0\" fill=\"currentColor\"/></g><g class=\"displacy-arrow\"><path class=\"displacy-arc\" id=\"arrow-d42d768c57974389814d0821494433e9-1-5\" stroke-width=\"2px\" d=\"M670,152.0 C670,102.0 740.0,102.0 740.0,152.0\" fill=\"none\" stroke=\"currentColor\"/><text dy=\"1.25em\" style=\"font-size: 0.8em; letter-spacing: 1px\"><textPath xlink:href=\"#arrow-d42d768c57974389814d0821494433e9-1-5\" class=\"displacy-label\" startOffset=\"50%\" side=\"left\" fill=\"currentColor\" text-anchor=\"middle\">nsubj</textPath></text><path class=\"displacy-arrowhead\" d=\"M670,154.0 L662,142.0 678,142.0\" fill=\"currentColor\"/></g><g class=\"displacy-arrow\"><path class=\"displacy-arc\" id=\"arrow-d42d768c57974389814d0821494433e9-1-6\" stroke-width=\"2px\" d=\"M570,152.0 C570,52.0 745.0,52.0 745.0,152.0\" fill=\"none\" stroke=\"currentColor\"/><text dy=\"1.25em\" style=\"font-size: 0.8em; letter-spacing: 1px\"><textPath xlink:href=\"#arrow-d42d768c57974389814d0821494433e9-1-6\" class=\"displacy-label\" startOffset=\"50%\" side=\"left\" fill=\"currentColor\" text-anchor=\"middle\">relcl</textPath></text><path class=\"displacy-arrowhead\" d=\"M745.0,154.0 L753.0,142.0 737.0,142.0\" fill=\"currentColor\"/></g><g class=\"displacy-arrow\"><path class=\"displacy-arc\" id=\"arrow-d42d768c57974389814d0821494433e9-1-7\" stroke-width=\"2px\" d=\"M770,152.0 C770,102.0 840.0,102.0 840.0,152.0\" fill=\"none\" stroke=\"currentColor\"/><text dy=\"1.25em\" style=\"font-size: 0.8em; letter-spacing: 1px\"><textPath xlink:href=\"#arrow-d42d768c57974389814d0821494433e9-1-7\" class=\"displacy-label\" startOffset=\"50%\" side=\"left\" fill=\"currentColor\" text-anchor=\"middle\">prep</textPath></text><path class=\"displacy-arrowhead\" d=\"M840.0,154.0 L848.0,142.0 832.0,142.0\" fill=\"currentColor\"/></g><g class=\"displacy-arrow\"><path class=\"displacy-arc\" id=\"arrow-d42d768c57974389814d0821494433e9-1-8\" stroke-width=\"2px\" d=\"M370,152.0 C370,2.0 950.0,2.0 950.0,152.0\" fill=\"none\" stroke=\"currentColor\"/><text dy=\"1.25em\" style=\"font-size: 0.8em; letter-spacing: 1px\"><textPath xlink:href=\"#arrow-d42d768c57974389814d0821494433e9-1-8\" class=\"displacy-label\" startOffset=\"50%\" side=\"left\" fill=\"currentColor\" text-anchor=\"middle\">punct</textPath></text><path class=\"displacy-arrowhead\" d=\"M950.0,154.0 L958.0,142.0 942.0,142.0\" fill=\"currentColor\"/></g><g class=\"displacy-arrow\"><path class=\"displacy-arc\" id=\"arrow-d42d768c57974389814d0821494433e9-1-9\" stroke-width=\"2px\" d=\"M970,152.0 C970,102.0 1040.0,102.0 1040.0,152.0\" fill=\"none\" stroke=\"currentColor\"/><text dy=\"1.25em\" style=\"font-size: 0.8em; letter-spacing: 1px\"><textPath xlink:href=\"#arrow-d42d768c57974389814d0821494433e9-1-9\" class=\"displacy-label\" startOffset=\"50%\" side=\"left\" fill=\"currentColor\" text-anchor=\"middle\">dep</textPath></text><path class=\"displacy-arrowhead\" d=\"M1040.0,154.0 L1048.0,142.0 1032.0,142.0\" fill=\"currentColor\"/></g></svg><svg xmlns=\"http://www.w3.org/2000/svg\" xmlns:xlink=\"http://www.w3.org/1999/xlink\" xml:lang=\"en\" id=\"d42d768c57974389814d0821494433e9-2\" class=\"displacy\" width=\"1650\" height=\"337.0\" direction=\"ltr\" style=\"max-width: none; height: 337.0px; color: #000000; background: #ffffff; font-family: Arial; direction: ltr\"><text class=\"displacy-token\" fill=\"currentColor\" text-anchor=\"middle\" y=\"247.0\"><tspan class=\"displacy-word\" fill=\"currentColor\" x=\"50\">But</tspan><tspan class=\"displacy-tag\" dy=\"2em\" fill=\"currentColor\" x=\"50\">CCONJ</tspan></text><text class=\"displacy-token\" fill=\"currentColor\" text-anchor=\"middle\" y=\"247.0\"><tspan class=\"displacy-word\" fill=\"currentColor\" x=\"150\">there</tspan><tspan class=\"displacy-tag\" dy=\"2em\" fill=\"currentColor\" x=\"150\">PRON</tspan></text><text class=\"displacy-token\" fill=\"currentColor\" text-anchor=\"middle\" y=\"247.0\"><tspan class=\"displacy-word\" fill=\"currentColor\" x=\"250\">is</tspan><tspan class=\"displacy-tag\" dy=\"2em\" fill=\"currentColor\" x=\"250\">VERB</tspan></text><text class=\"displacy-token\" fill=\"currentColor\" text-anchor=\"middle\" y=\"247.0\"><tspan class=\"displacy-word\" fill=\"currentColor\" x=\"350\">no</tspan><tspan class=\"displacy-tag\" dy=\"2em\" fill=\"currentColor\" x=\"350\">DET</tspan></text><text class=\"displacy-token\" fill=\"currentColor\" text-anchor=\"middle\" y=\"247.0\"><tspan class=\"displacy-word\" fill=\"currentColor\" x=\"450\">way</tspan><tspan class=\"displacy-tag\" dy=\"2em\" fill=\"currentColor\" x=\"450\">NOUN</tspan></text><text class=\"displacy-token\" fill=\"currentColor\" text-anchor=\"middle\" y=\"247.0\"><tspan class=\"displacy-word\" fill=\"currentColor\" x=\"550\">of</tspan><tspan class=\"displacy-tag\" dy=\"2em\" fill=\"currentColor\" x=\"550\">ADP</tspan></text><text class=\"displacy-token\" fill=\"currentColor\" text-anchor=\"middle\" y=\"247.0\"><tspan class=\"displacy-word\" fill=\"currentColor\" x=\"650\">ensuring</tspan><tspan class=\"displacy-tag\" dy=\"2em\" fill=\"currentColor\" x=\"650\">VERB</tspan></text><text class=\"displacy-token\" fill=\"currentColor\" text-anchor=\"middle\" y=\"247.0\"><tspan class=\"displacy-word\" fill=\"currentColor\" x=\"750\">that</tspan><tspan class=\"displacy-tag\" dy=\"2em\" fill=\"currentColor\" x=\"750\">SCONJ</tspan></text><text class=\"displacy-token\" fill=\"currentColor\" text-anchor=\"middle\" y=\"247.0\"><tspan class=\"displacy-word\" fill=\"currentColor\" x=\"850\">these</tspan><tspan class=\"displacy-tag\" dy=\"2em\" fill=\"currentColor\" x=\"850\">DET</tspan></text><text class=\"displacy-token\" fill=\"currentColor\" text-anchor=\"middle\" y=\"247.0\"><tspan class=\"displacy-word\" fill=\"currentColor\" x=\"950\">systems</tspan><tspan class=\"displacy-tag\" dy=\"2em\" fill=\"currentColor\" x=\"950\">NOUN</tspan></text><text class=\"displacy-token\" fill=\"currentColor\" text-anchor=\"middle\" y=\"247.0\"><tspan class=\"displacy-word\" fill=\"currentColor\" x=\"1050\">produce</tspan><tspan class=\"displacy-tag\" dy=\"2em\" fill=\"currentColor\" x=\"1050\">VERB</tspan></text><text class=\"displacy-token\" fill=\"currentColor\" text-anchor=\"middle\" y=\"247.0\"><tspan class=\"displacy-word\" fill=\"currentColor\" x=\"1150\">information</tspan><tspan class=\"displacy-tag\" dy=\"2em\" fill=\"currentColor\" x=\"1150\">NOUN</tspan></text><text class=\"displacy-token\" fill=\"currentColor\" text-anchor=\"middle\" y=\"247.0\"><tspan class=\"displacy-word\" fill=\"currentColor\" x=\"1250\">that</tspan><tspan class=\"displacy-tag\" dy=\"2em\" fill=\"currentColor\" x=\"1250\">PRON</tspan></text><text class=\"displacy-token\" fill=\"currentColor\" text-anchor=\"middle\" y=\"247.0\"><tspan class=\"displacy-word\" fill=\"currentColor\" x=\"1350\">is</tspan><tspan class=\"displacy-tag\" dy=\"2em\" fill=\"currentColor\" x=\"1350\">AUX</tspan></text><text class=\"displacy-token\" fill=\"currentColor\" text-anchor=\"middle\" y=\"247.0\"><tspan class=\"displacy-word\" fill=\"currentColor\" x=\"1450\">accurate.</tspan><tspan class=\"displacy-tag\" dy=\"2em\" fill=\"currentColor\" x=\"1450\">PUNCT</tspan></text><text class=\"displacy-token\" fill=\"currentColor\" text-anchor=\"middle\" y=\"247.0\"><tspan class=\"displacy-word\" fill=\"currentColor\" x=\"1550\"></tspan><tspan class=\"displacy-tag\" dy=\"2em\" fill=\"currentColor\" x=\"1550\">SPACE</tspan></text><g class=\"displacy-arrow\"><path class=\"displacy-arc\" id=\"arrow-d42d768c57974389814d0821494433e9-2-0\" stroke-width=\"2px\" d=\"M70,202.0 C70,102.0 240.0,102.0 240.0,202.0\" fill=\"none\" stroke=\"currentColor\"/><text dy=\"1.25em\" style=\"font-size: 0.8em; letter-spacing: 1px\"><textPath xlink:href=\"#arrow-d42d768c57974389814d0821494433e9-2-0\" class=\"displacy-label\" startOffset=\"50%\" side=\"left\" fill=\"currentColor\" text-anchor=\"middle\">cc</textPath></text><path class=\"displacy-arrowhead\" d=\"M70,204.0 L62,192.0 78,192.0\" fill=\"currentColor\"/></g><g class=\"displacy-arrow\"><path class=\"displacy-arc\" id=\"arrow-d42d768c57974389814d0821494433e9-2-1\" stroke-width=\"2px\" d=\"M170,202.0 C170,152.0 235.0,152.0 235.0,202.0\" fill=\"none\" stroke=\"currentColor\"/><text dy=\"1.25em\" style=\"font-size: 0.8em; letter-spacing: 1px\"><textPath xlink:href=\"#arrow-d42d768c57974389814d0821494433e9-2-1\" class=\"displacy-label\" startOffset=\"50%\" side=\"left\" fill=\"currentColor\" text-anchor=\"middle\">expl</textPath></text><path class=\"displacy-arrowhead\" d=\"M170,204.0 L162,192.0 178,192.0\" fill=\"currentColor\"/></g><g class=\"displacy-arrow\"><path class=\"displacy-arc\" id=\"arrow-d42d768c57974389814d0821494433e9-2-2\" stroke-width=\"2px\" d=\"M370,202.0 C370,152.0 435.0,152.0 435.0,202.0\" fill=\"none\" stroke=\"currentColor\"/><text dy=\"1.25em\" style=\"font-size: 0.8em; letter-spacing: 1px\"><textPath xlink:href=\"#arrow-d42d768c57974389814d0821494433e9-2-2\" class=\"displacy-label\" startOffset=\"50%\" side=\"left\" fill=\"currentColor\" text-anchor=\"middle\">det</textPath></text><path class=\"displacy-arrowhead\" d=\"M370,204.0 L362,192.0 378,192.0\" fill=\"currentColor\"/></g><g class=\"displacy-arrow\"><path class=\"displacy-arc\" id=\"arrow-d42d768c57974389814d0821494433e9-2-3\" stroke-width=\"2px\" d=\"M270,202.0 C270,102.0 440.0,102.0 440.0,202.0\" fill=\"none\" stroke=\"currentColor\"/><text dy=\"1.25em\" style=\"font-size: 0.8em; letter-spacing: 1px\"><textPath xlink:href=\"#arrow-d42d768c57974389814d0821494433e9-2-3\" class=\"displacy-label\" startOffset=\"50%\" side=\"left\" fill=\"currentColor\" text-anchor=\"middle\">attr</textPath></text><path class=\"displacy-arrowhead\" d=\"M440.0,204.0 L448.0,192.0 432.0,192.0\" fill=\"currentColor\"/></g><g class=\"displacy-arrow\"><path class=\"displacy-arc\" id=\"arrow-d42d768c57974389814d0821494433e9-2-4\" stroke-width=\"2px\" d=\"M470,202.0 C470,152.0 535.0,152.0 535.0,202.0\" fill=\"none\" stroke=\"currentColor\"/><text dy=\"1.25em\" style=\"font-size: 0.8em; letter-spacing: 1px\"><textPath xlink:href=\"#arrow-d42d768c57974389814d0821494433e9-2-4\" class=\"displacy-label\" startOffset=\"50%\" side=\"left\" fill=\"currentColor\" text-anchor=\"middle\">prep</textPath></text><path class=\"displacy-arrowhead\" d=\"M535.0,204.0 L543.0,192.0 527.0,192.0\" fill=\"currentColor\"/></g><g class=\"displacy-arrow\"><path class=\"displacy-arc\" id=\"arrow-d42d768c57974389814d0821494433e9-2-5\" stroke-width=\"2px\" d=\"M570,202.0 C570,152.0 635.0,152.0 635.0,202.0\" fill=\"none\" stroke=\"currentColor\"/><text dy=\"1.25em\" style=\"font-size: 0.8em; letter-spacing: 1px\"><textPath xlink:href=\"#arrow-d42d768c57974389814d0821494433e9-2-5\" class=\"displacy-label\" startOffset=\"50%\" side=\"left\" fill=\"currentColor\" text-anchor=\"middle\">pcomp</textPath></text><path class=\"displacy-arrowhead\" d=\"M635.0,204.0 L643.0,192.0 627.0,192.0\" fill=\"currentColor\"/></g><g class=\"displacy-arrow\"><path class=\"displacy-arc\" id=\"arrow-d42d768c57974389814d0821494433e9-2-6\" stroke-width=\"2px\" d=\"M770,202.0 C770,102.0 1040.0,102.0 1040.0,202.0\" fill=\"none\" stroke=\"currentColor\"/><text dy=\"1.25em\" style=\"font-size: 0.8em; letter-spacing: 1px\"><textPath xlink:href=\"#arrow-d42d768c57974389814d0821494433e9-2-6\" class=\"displacy-label\" startOffset=\"50%\" side=\"left\" fill=\"currentColor\" text-anchor=\"middle\">mark</textPath></text><path class=\"displacy-arrowhead\" d=\"M770,204.0 L762,192.0 778,192.0\" fill=\"currentColor\"/></g><g class=\"displacy-arrow\"><path class=\"displacy-arc\" id=\"arrow-d42d768c57974389814d0821494433e9-2-7\" stroke-width=\"2px\" d=\"M870,202.0 C870,152.0 935.0,152.0 935.0,202.0\" fill=\"none\" stroke=\"currentColor\"/><text dy=\"1.25em\" style=\"font-size: 0.8em; letter-spacing: 1px\"><textPath xlink:href=\"#arrow-d42d768c57974389814d0821494433e9-2-7\" class=\"displacy-label\" startOffset=\"50%\" side=\"left\" fill=\"currentColor\" text-anchor=\"middle\">det</textPath></text><path class=\"displacy-arrowhead\" d=\"M870,204.0 L862,192.0 878,192.0\" fill=\"currentColor\"/></g><g class=\"displacy-arrow\"><path class=\"displacy-arc\" id=\"arrow-d42d768c57974389814d0821494433e9-2-8\" stroke-width=\"2px\" d=\"M970,202.0 C970,152.0 1035.0,152.0 1035.0,202.0\" fill=\"none\" stroke=\"currentColor\"/><text dy=\"1.25em\" style=\"font-size: 0.8em; letter-spacing: 1px\"><textPath xlink:href=\"#arrow-d42d768c57974389814d0821494433e9-2-8\" class=\"displacy-label\" startOffset=\"50%\" side=\"left\" fill=\"currentColor\" text-anchor=\"middle\">nsubj</textPath></text><path class=\"displacy-arrowhead\" d=\"M970,204.0 L962,192.0 978,192.0\" fill=\"currentColor\"/></g><g class=\"displacy-arrow\"><path class=\"displacy-arc\" id=\"arrow-d42d768c57974389814d0821494433e9-2-9\" stroke-width=\"2px\" d=\"M670,202.0 C670,52.0 1045.0,52.0 1045.0,202.0\" fill=\"none\" stroke=\"currentColor\"/><text dy=\"1.25em\" style=\"font-size: 0.8em; letter-spacing: 1px\"><textPath xlink:href=\"#arrow-d42d768c57974389814d0821494433e9-2-9\" class=\"displacy-label\" startOffset=\"50%\" side=\"left\" fill=\"currentColor\" text-anchor=\"middle\">ccomp</textPath></text><path class=\"displacy-arrowhead\" d=\"M1045.0,204.0 L1053.0,192.0 1037.0,192.0\" fill=\"currentColor\"/></g><g class=\"displacy-arrow\"><path class=\"displacy-arc\" id=\"arrow-d42d768c57974389814d0821494433e9-2-10\" stroke-width=\"2px\" d=\"M1070,202.0 C1070,152.0 1135.0,152.0 1135.0,202.0\" fill=\"none\" stroke=\"currentColor\"/><text dy=\"1.25em\" style=\"font-size: 0.8em; letter-spacing: 1px\"><textPath xlink:href=\"#arrow-d42d768c57974389814d0821494433e9-2-10\" class=\"displacy-label\" startOffset=\"50%\" side=\"left\" fill=\"currentColor\" text-anchor=\"middle\">dobj</textPath></text><path class=\"displacy-arrowhead\" d=\"M1135.0,204.0 L1143.0,192.0 1127.0,192.0\" fill=\"currentColor\"/></g><g class=\"displacy-arrow\"><path class=\"displacy-arc\" id=\"arrow-d42d768c57974389814d0821494433e9-2-11\" stroke-width=\"2px\" d=\"M1270,202.0 C1270,152.0 1335.0,152.0 1335.0,202.0\" fill=\"none\" stroke=\"currentColor\"/><text dy=\"1.25em\" style=\"font-size: 0.8em; letter-spacing: 1px\"><textPath xlink:href=\"#arrow-d42d768c57974389814d0821494433e9-2-11\" class=\"displacy-label\" startOffset=\"50%\" side=\"left\" fill=\"currentColor\" text-anchor=\"middle\">nsubj</textPath></text><path class=\"displacy-arrowhead\" d=\"M1270,204.0 L1262,192.0 1278,192.0\" fill=\"currentColor\"/></g><g class=\"displacy-arrow\"><path class=\"displacy-arc\" id=\"arrow-d42d768c57974389814d0821494433e9-2-12\" stroke-width=\"2px\" d=\"M1170,202.0 C1170,102.0 1340.0,102.0 1340.0,202.0\" fill=\"none\" stroke=\"currentColor\"/><text dy=\"1.25em\" style=\"font-size: 0.8em; letter-spacing: 1px\"><textPath xlink:href=\"#arrow-d42d768c57974389814d0821494433e9-2-12\" class=\"displacy-label\" startOffset=\"50%\" side=\"left\" fill=\"currentColor\" text-anchor=\"middle\">relcl</textPath></text><path class=\"displacy-arrowhead\" d=\"M1340.0,204.0 L1348.0,192.0 1332.0,192.0\" fill=\"currentColor\"/></g><g class=\"displacy-arrow\"><path class=\"displacy-arc\" id=\"arrow-d42d768c57974389814d0821494433e9-2-13\" stroke-width=\"2px\" d=\"M270,202.0 C270,2.0 1450.0,2.0 1450.0,202.0\" fill=\"none\" stroke=\"currentColor\"/><text dy=\"1.25em\" style=\"font-size: 0.8em; letter-spacing: 1px\"><textPath xlink:href=\"#arrow-d42d768c57974389814d0821494433e9-2-13\" class=\"displacy-label\" startOffset=\"50%\" side=\"left\" fill=\"currentColor\" text-anchor=\"middle\">punct</textPath></text><path class=\"displacy-arrowhead\" d=\"M1450.0,204.0 L1458.0,192.0 1442.0,192.0\" fill=\"currentColor\"/></g><g class=\"displacy-arrow\"><path class=\"displacy-arc\" id=\"arrow-d42d768c57974389814d0821494433e9-2-14\" stroke-width=\"2px\" d=\"M1470,202.0 C1470,152.0 1535.0,152.0 1535.0,202.0\" fill=\"none\" stroke=\"currentColor\"/><text dy=\"1.25em\" style=\"font-size: 0.8em; letter-spacing: 1px\"><textPath xlink:href=\"#arrow-d42d768c57974389814d0821494433e9-2-14\" class=\"displacy-label\" startOffset=\"50%\" side=\"left\" fill=\"currentColor\" text-anchor=\"middle\">dep</textPath></text><path class=\"displacy-arrowhead\" d=\"M1535.0,204.0 L1543.0,192.0 1527.0,192.0\" fill=\"currentColor\"/></g></svg></span>"
            ]
          },
          "metadata": {}
        }
      ],
      "source": [
        "sentence_spans = list(doc.sents)\n",
        "displacy.render(sentence_spans, style=\"dep\",minify=True,jupyter=True,options={'distance':100})"
      ]
    },
    {
      "cell_type": "markdown",
      "metadata": {
        "id": "v1_iq_7_Ml67"
      },
      "source": [
        "### Selecting combinations fo words\n",
        "\n",
        "Sometimes we want to find concepts in a text, like names of places or organisations, or for instance, the most important keywords and concepts in a text (i.e. for visualisation in a word cloud). Such concepts are not always a single word, but often consist of two or more words. The **phrase matcher** allows you to identify such word combinations using all the properties that spacy has assigned to the tokens in the input, and using regular expression operators for creating flexible patterns.\n",
        "\n",
        "The example below, finds combinations consisting of an ADJECTIVE and a NOUN ('artificial intelligence').\n",
        "\n"
      ]
    },
    {
      "cell_type": "code",
      "execution_count": 8,
      "metadata": {
        "colab": {
          "base_uri": "https://localhost:8080/"
        },
        "id": "Q5v74mhnMl6-",
        "outputId": "5933e127-abb7-4dc0-e17f-f78c19eeeafd"
      },
      "outputs": [
        {
          "output_type": "stream",
          "name": "stdout",
          "text": [
            "adj_noun :  green trees\n",
            "adj_noun :  thick stems\n",
            "adj_noun :  Artificial intelligence\n",
            "adj_noun :  booming business\n"
          ]
        }
      ],
      "source": [
        "from spacy.matcher import Matcher\n",
        "\n",
        "matcher = Matcher(nlp.vocab)\n",
        "\n",
        "pattern = [{\"POS\": \"ADJ\"}, {\"POS\": \"NOUN\"}]\n",
        "\n",
        "# https://spacy.io/api/matcher#add as of version 3, longest match is supported\n",
        "matcher.add(\"adj_noun\", [pattern],greedy=\"LONGEST\")\n",
        "\n",
        "text = '''Some old green trees have thick stems. \n",
        "Artificial intelligence is a booming business. \n",
        "NVIDIA is a computer firm that is at the forefront.'''\n",
        "\n",
        "doc = nlp(text)\n",
        "\n",
        "matches = matcher(doc)\n",
        "\n",
        "# the name of your pattern is hashed. To map from hash-id to text, look it up in vocab.strings\n",
        "for match_id, start, end in matches:\n",
        "    span = doc[start:end]\n",
        "    print(nlp.vocab.strings[match_id], \": \", span.text)\n",
        "    \n"
      ]
    },
    {
      "cell_type": "markdown",
      "metadata": {
        "id": "Kp5l4RvGMl7B"
      },
      "source": [
        "### Exercise 4\n",
        "\n",
        "* Modify the adj_noun pattern, so that the pattern also matches nouns preceded by zero or more adjectives \n",
        "\n",
        "* Modify it, so that the pattern also matches with noun noun compounds like _'computer firm'_\n",
        "\n",
        "See [operators](https://spacy.io/usage/rule-based-matching#quantifiers) for examples of adding regular expression operators to your patterns (for matching optionally, or zero or more times)\n",
        "\n",
        "Test your pattern on an input text that contains examples of such cases. Does it always work as expected?"
      ]
    },
    {
      "cell_type": "markdown",
      "metadata": {
        "id": "ZI1avKvoMl7C"
      },
      "source": [
        "### Optional: Towards Information Extraction\n",
        "\n",
        "The pattern matcher can also to some extent be used for extracting words by means of their syntactic relationships in text. This can be useful for information extraction. Imagine for instance that you want to extract all occurrences of organisations in a text, and, if they are the object of verb, also the verb (i.e. from the sentence _Google wants to buy NVIDIA_, it would extract the tuple _(buy, NVIDIA)_.\n",
        "\n",
        "Tokens contain information about their part-of-speech etc., but also syntactic information, such as their syntactic function. These are the labels on the edges between nodes you see in the displacy visualisations. 'nsubj' is the dependency label for subjects, 'dobj' is the dependency label for objects.\n",
        "\n",
        "We can use this information to also find the relationship between a matched span and the word of which it is a dependent. The example below matches proper names (sequences with PROPN as part-of-speech, we will soon see better ways to find named entities) and prints their dependency label (dep_) as well as the word of wich they are a dependent. \n",
        "\n",
        "One twist here is that the span (i.e. a sequence of tokens) that matches a pattern does not have these linguistic attributes. The attribute root is used to find the most prominent word within a span. This root token then provides information such as the dependency label and a link to the head.\n",
        "                                                                                        "
      ]
    },
    {
      "cell_type": "code",
      "execution_count": 9,
      "metadata": {
        "colab": {
          "base_uri": "https://localhost:8080/"
        },
        "id": "8dfjRbETMl7E",
        "outputId": "b89e0c22-441a-4516-e7d6-d835d01a8c68"
      },
      "outputs": [
        {
          "output_type": "stream",
          "name": "stdout",
          "text": [
            "Google nsubj wants\n",
            "AI dobj buy\n"
          ]
        }
      ],
      "source": [
        "object_pattern = [{\"POS\":\"PROPN\", \"OP\":\"+\"}]\n",
        "\n",
        "matcher.add(\"OBJECT\", [object_pattern])\n",
        "\n",
        "doc = nlp(\"Google wants to buy Open AI\")\n",
        "\n",
        "for match_id, start, end in matcher(doc):\n",
        "    span = doc[start:end]\n",
        "    print(span.text, span.root.dep_,span.root.head.text)\n",
        "    \n"
      ]
    },
    {
      "cell_type": "markdown",
      "metadata": {
        "id": "J33d7jefMl7G"
      },
      "source": [
        "### Exercise 5 (optional)\n",
        "\n",
        "* Modify the code above so that it only prints cases where the root of the matched span is a direct object (dobj).\n",
        "* Modify the code above so that it prints the lemma_ of the head token (the verb) instead of the text. Test this for an example like 'Google buys Open AI'.\n",
        "\n",
        "Hint: these modifications require modifying the for-loop."
      ]
    },
    {
      "cell_type": "code",
      "execution_count": null,
      "metadata": {
        "id": "PToD4pDIMl7H"
      },
      "outputs": [],
      "source": []
    }
  ],
  "metadata": {
    "celltoolbar": "Tags",
    "kernelspec": {
      "display_name": "Python 3 (ipykernel)",
      "language": "python",
      "name": "python3"
    },
    "language_info": {
      "codemirror_mode": {
        "name": "ipython",
        "version": 3
      },
      "file_extension": ".py",
      "mimetype": "text/x-python",
      "name": "python",
      "nbconvert_exporter": "python",
      "pygments_lexer": "ipython3",
      "version": "3.8.10"
    },
    "colab": {
      "provenance": []
    }
  },
  "nbformat": 4,
  "nbformat_minor": 0
}